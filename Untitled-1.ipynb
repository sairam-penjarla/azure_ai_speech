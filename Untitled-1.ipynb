{
 "cells": [
  {
   "cell_type": "code",
   "execution_count": 1,
   "metadata": {},
   "outputs": [
    {
     "name": "stdout",
     "output_type": "stream",
     "text": [
      "Requirement already satisfied: azure-cognitiveservices-speech in c:\\users\\sairampenjarla\\miniconda3\\envs\\.intenv\\lib\\site-packages (1.42.0)\n",
      "Note: you may need to restart the kernel to use updated packages.\n"
     ]
    }
   ],
   "source": [
    "pip install azure-cognitiveservices-speech"
   ]
  },
  {
   "cell_type": "code",
   "execution_count": 2,
   "metadata": {},
   "outputs": [],
   "source": [
    "speech_key = \"uksouth\"\n",
    "service_region = \"9exagfO4mwYfORrG7WW9ajX7l66e0AtGKQR4zW0FvNrVCLZIaMGmJQQJ99BCACmepeSXJ3w3AAAYACOGuuMq\""
   ]
  },
  {
   "cell_type": "code",
   "execution_count": 5,
   "metadata": {},
   "outputs": [
    {
     "name": "stdout",
     "output_type": "stream",
     "text": [
      "Speak into your microphone.\n",
      "Speech Recognition canceled: CancellationReason.Error\n",
      "Error details: Connection failed (no connection to the remote host). Internal error: 1. Error details: Failed with error: WS_OPEN_ERROR_UNDERLYING_IO_OPEN_FAILED\n",
      "wss://9exagfO4mwYfORrG7WW9ajX7l66e0AtGKQR4zW0FvNrVCLZIaMGmJQQJ99BCACmepeSXJ3w3AAAYACOGuuMq.stt.speech.microsoft.com/speech/universal/v2\n",
      "X-ConnectionId: ec1aff6ee93f43f6bc6be125880458af SessionId: ec1aff6ee93f43f6bc6be125880458af\n",
      "Did you set the speech resource key and region values?\n"
     ]
    }
   ],
   "source": [
    "import os\n",
    "import azure.cognitiveservices.speech as speechsdk\n",
    "\n",
    "def recognize_from_microphone():\n",
    "    # This example requires environment variables named \"SPEECH_KEY\" and \"SPEECH_REGION\"\n",
    "    speech_config = speechsdk.SpeechConfig(subscription=speech_key, region=service_region)\n",
    "    speech_config.speech_recognition_language=\"en-US\"\n",
    "\n",
    "    audio_config = speechsdk.audio.AudioConfig(use_default_microphone=True)\n",
    "    speech_recognizer = speechsdk.SpeechRecognizer(speech_config=speech_config, audio_config=audio_config)\n",
    "\n",
    "    print(\"Speak into your microphone.\")\n",
    "    speech_recognition_result = speech_recognizer.recognize_once_async().get()\n",
    "\n",
    "    if speech_recognition_result.reason == speechsdk.ResultReason.RecognizedSpeech:\n",
    "        print(\"Recognized: {}\".format(speech_recognition_result.text))\n",
    "    elif speech_recognition_result.reason == speechsdk.ResultReason.NoMatch:\n",
    "        print(\"No speech could be recognized: {}\".format(speech_recognition_result.no_match_details))\n",
    "    elif speech_recognition_result.reason == speechsdk.ResultReason.Canceled:\n",
    "        cancellation_details = speech_recognition_result.cancellation_details\n",
    "        print(\"Speech Recognition canceled: {}\".format(cancellation_details.reason))\n",
    "        if cancellation_details.reason == speechsdk.CancellationReason.Error:\n",
    "            print(\"Error details: {}\".format(cancellation_details.error_details))\n",
    "            print(\"Did you set the speech resource key and region values?\")\n",
    "\n",
    "recognize_from_microphone()"
   ]
  },
  {
   "cell_type": "code",
   "execution_count": null,
   "metadata": {},
   "outputs": [],
   "source": [
    "def text_to_speech(text):\n",
    "    speech_config = speechsdk.SpeechConfig(subscription=speech_key, region=service_region)\n",
    "    speech_synthesizer = speechsdk.SpeechSynthesizer(speech_config=speech_config)\n",
    "\n",
    "    result = speech_synthesizer.speak_text_async(text).get()\n",
    "\n",
    "    if result.reason == speechsdk.ResultReason.SynthesizingAudioCompleted:\n",
    "        print(\"Speech synthesized successfully!\")\n",
    "    else:\n",
    "        print(\"Error in synthesis:\", result.reason)\n",
    "\n",
    "text_to_speech(\"Hello! This is an AI-generated voice.\")\n"
   ]
  },
  {
   "cell_type": "code",
   "execution_count": null,
   "metadata": {},
   "outputs": [],
   "source": [
    "def speech_translation():\n",
    "    speech_config = speechsdk.SpeechConfig(subscription=speech_key, region=service_region)\n",
    "    translation_config = speechsdk.translation.SpeechTranslationConfig(subscription=speech_key, region=service_region)\n",
    "    translation_config.speech_recognition_language = \"en-US\"\n",
    "    translation_config.add_target_language(\"fr\")  # Translate to French\n",
    "\n",
    "    audio_config = speechsdk.AudioConfig(use_default_microphone=True)\n",
    "    recognizer = speechsdk.translation.TranslationRecognizer(translation_config=translation_config, audio_config=audio_config)\n",
    "\n",
    "    print(\"Speak now...\")\n",
    "    result = recognizer.recognize_once()\n",
    "\n",
    "    if result.reason == speechsdk.ResultReason.TranslatedSpeech:\n",
    "        print(\"Original:\", result.text)\n",
    "        print(\"French Translation:\", result.translations[\"fr\"])\n",
    "    else:\n",
    "        print(\"Translation failed.\")\n",
    "\n",
    "speech_translation()\n"
   ]
  },
  {
   "cell_type": "code",
   "execution_count": null,
   "metadata": {},
   "outputs": [],
   "source": [
    "# Custom speech models require training via Azure Portal.\n",
    "# However, once trained, you can use them in transcription as follows:\n",
    "\n",
    "def custom_speech_to_text():\n",
    "    speech_config = speechsdk.SpeechConfig(subscription=speech_key, region=service_region)\n",
    "    speech_config.endpoint_id = \"YOUR_CUSTOM_MODEL_ID\"  # Set your custom model ID\n",
    "\n",
    "    recognizer = speechsdk.SpeechRecognizer(speech_config=speech_config)\n",
    "\n",
    "    print(\"Say something with custom model...\")\n",
    "    result = recognizer.recognize_once()\n",
    "\n",
    "    if result.reason == speechsdk.ResultReason.RecognizedSpeech:\n",
    "        print(\"Custom Model Recognized:\", result.text)\n",
    "    else:\n",
    "        print(\"Could not recognize speech.\")\n",
    "\n",
    "custom_speech_to_text()\n"
   ]
  },
  {
   "cell_type": "code",
   "execution_count": null,
   "metadata": {},
   "outputs": [],
   "source": [
    "def speaker_verification():\n",
    "    speech_config = speechsdk.SpeechConfig(subscription=speech_key, region=service_region)\n",
    "    profile = speechsdk.SpeakerVerificationModel(\"YOUR_PROFILE_ID\")  # Pre-enrolled voice profile ID\n",
    "\n",
    "    recognizer = speechsdk.SpeakerRecognizer(speech_config=speech_config)\n",
    "    print(\"Say your passphrase...\")\n",
    "\n",
    "    result = recognizer.recognize_once()\n",
    "\n",
    "    if result.reason == speechsdk.ResultReason.RecognizedSpeech:\n",
    "        print(\"Speaker Verified:\", result.text)\n",
    "    else:\n",
    "        print(\"Speaker not recognized.\")\n",
    "\n",
    "# Requires a pre-enrolled voice profile in Azure\n",
    "# speaker_verification()\n"
   ]
  },
  {
   "cell_type": "code",
   "execution_count": null,
   "metadata": {},
   "outputs": [],
   "source": [
    "def text_to_speech_save_audio(text, output_file=\"output.wav\"):\n",
    "    speech_config = speechsdk.SpeechConfig(subscription=speech_key, region=service_region)\n",
    "    audio_config = speechsdk.audio.AudioOutputConfig(filename=output_file)\n",
    "\n",
    "    synthesizer = speechsdk.SpeechSynthesizer(speech_config=speech_config, audio_config=audio_config)\n",
    "    result = synthesizer.speak_text_async(text).get()\n",
    "\n",
    "    if result.reason == speechsdk.ResultReason.SynthesizingAudioCompleted:\n",
    "        print(f\"Audio saved to {output_file}\")\n",
    "    else:\n",
    "        print(\"Error in synthesis:\", result.reason)\n",
    "\n",
    "text_to_speech_save_audio(\"This is an AI-generated audio file.\")\n"
   ]
  },
  {
   "cell_type": "code",
   "execution_count": null,
   "metadata": {},
   "outputs": [],
   "source": [
    "def real_time_speech_analytics():\n",
    "    speech_config = speechsdk.SpeechConfig(subscription=speech_key, region=service_region)\n",
    "    audio_config = speechsdk.AudioConfig(use_default_microphone=True)\n",
    "\n",
    "    recognizer = speechsdk.SpeechRecognizer(speech_config=speech_config, audio_config=audio_config)\n",
    "\n",
    "    print(\"Speak for analysis...\")\n",
    "    result = recognizer.recognize_once()\n",
    "\n",
    "    if result.reason == speechsdk.ResultReason.RecognizedSpeech:\n",
    "        print(\"Recognized:\", result.text)\n",
    "\n",
    "        # Perform basic keyword detection\n",
    "        keywords = [\"error\", \"failure\", \"success\"]\n",
    "        for keyword in keywords:\n",
    "            if keyword in result.text.lower():\n",
    "                print(f\"Keyword detected: {keyword}\")\n",
    "\n",
    "    else:\n",
    "        print(\"Could not recognize speech.\")\n",
    "\n",
    "real_time_speech_analytics()\n"
   ]
  },
  {
   "cell_type": "code",
   "execution_count": null,
   "metadata": {},
   "outputs": [],
   "source": [
    "def voice_commands():\n",
    "    speech_config = speechsdk.SpeechConfig(subscription=speech_key, region=service_region)\n",
    "    audio_config = speechsdk.AudioConfig(use_default_microphone=True)\n",
    "\n",
    "    recognizer = speechsdk.SpeechRecognizer(speech_config=speech_config, audio_config=audio_config)\n",
    "\n",
    "    print(\"Say a command (Start, Stop, Exit)...\")\n",
    "    result = recognizer.recognize_once()\n",
    "\n",
    "    if result.reason == speechsdk.ResultReason.RecognizedSpeech:\n",
    "        command = result.text.lower()\n",
    "        if \"start\" in command:\n",
    "            print(\"Starting process...\")\n",
    "        elif \"stop\" in command:\n",
    "            print(\"Stopping process...\")\n",
    "        elif \"exit\" in command:\n",
    "            print(\"Exiting...\")\n",
    "            exit()\n",
    "        else:\n",
    "            print(\"Unknown command:\", command)\n",
    "    else:\n",
    "        print(\"Could not recognize speech.\")\n",
    "\n",
    "voice_commands()\n"
   ]
  }
 ],
 "metadata": {
  "kernelspec": {
   "display_name": ".intenv",
   "language": "python",
   "name": "python3"
  },
  "language_info": {
   "codemirror_mode": {
    "name": "ipython",
    "version": 3
   },
   "file_extension": ".py",
   "mimetype": "text/x-python",
   "name": "python",
   "nbconvert_exporter": "python",
   "pygments_lexer": "ipython3",
   "version": "3.11.11"
  }
 },
 "nbformat": 4,
 "nbformat_minor": 2
}
